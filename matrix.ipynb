{
 "cells": [
  {
   "cell_type": "code",
   "execution_count": 1,
   "metadata": {},
   "outputs": [],
   "source": [
    "import numpy as np"
   ]
  },
  {
   "cell_type": "code",
   "execution_count": 2,
   "metadata": {},
   "outputs": [
    {
     "data": {
      "text/plain": [
       "array([[ 2,  3,  4,  5,  6],\n",
       "       [ 3,  4,  5,  6,  7],\n",
       "       [ 4,  5,  6,  7,  8],\n",
       "       [ 5,  6,  7,  8,  9],\n",
       "       [ 6,  7,  8,  9, 10]])"
      ]
     },
     "execution_count": 2,
     "metadata": {},
     "output_type": "execute_result"
    }
   ],
   "source": [
    "x = np.array([1,2,3,4,5]).reshape(1,-1)\n",
    "x.T + x"
   ]
  },
  {
   "cell_type": "code",
   "execution_count": 3,
   "metadata": {},
   "outputs": [
    {
     "data": {
      "text/plain": [
       "((5, 1), (1, 5))"
      ]
     },
     "execution_count": 3,
     "metadata": {},
     "output_type": "execute_result"
    }
   ],
   "source": [
    "x.T.shape, x.shape"
   ]
  },
  {
   "cell_type": "code",
   "execution_count": 4,
   "metadata": {},
   "outputs": [
    {
     "data": {
      "text/plain": [
       "array([[ 1,  2,  3,  4],\n",
       "       [ 2,  4,  6,  8],\n",
       "       [ 3,  6,  9, 12],\n",
       "       [ 4,  8, 12, 16]])"
      ]
     },
     "execution_count": 4,
     "metadata": {},
     "output_type": "execute_result"
    }
   ],
   "source": [
    "v = np.array([1,2,3,4])\n",
    "\n",
    "v.reshape(-1,1) * v"
   ]
  },
  {
   "cell_type": "code",
   "execution_count": 6,
   "metadata": {},
   "outputs": [
    {
     "data": {
      "text/plain": [
       "array([[[  1,   2,   3,   4],\n",
       "        [  2,   4,   6,   8],\n",
       "        [  3,   6,   9,  12],\n",
       "        [  4,   8,  12,  16]],\n",
       "\n",
       "       [[  1,   0,   1,   0],\n",
       "        [  0,   0,   0,   0],\n",
       "        [  1,   0,   1,   0],\n",
       "        [  0,   0,   0,   0]],\n",
       "\n",
       "       [[ 25,  25,  50,  25],\n",
       "        [ 25,  25,  50,  25],\n",
       "        [ 50,  50, 100,  50],\n",
       "        [ 25,  25,  50,  25]]])"
      ]
     },
     "execution_count": 6,
     "metadata": {},
     "output_type": "execute_result"
    }
   ],
   "source": [
    "batch = np.array([\n",
    "    [1,2,3,4],\n",
    "    [1,0,1,0],\n",
    "    [5,5,10,5]\n",
    "])\n",
    "\n",
    "np.array([v.reshape(-1,1) * v for v in batch])"
   ]
  },
  {
   "cell_type": "code",
   "execution_count": 21,
   "metadata": {},
   "outputs": [
    {
     "ename": "NameError",
     "evalue": "name 'v' is not defined",
     "output_type": "error",
     "traceback": [
      "\u001b[1;31m---------------------------------------------------------------------------\u001b[0m",
      "\u001b[1;31mNameError\u001b[0m                                 Traceback (most recent call last)",
      "\u001b[1;32mC:\\Users\\DZMITR~1\\AppData\\Local\\Temp/ipykernel_15692/3789596355.py\u001b[0m in \u001b[0;36m<module>\u001b[1;34m\u001b[0m\n\u001b[1;32m----> 1\u001b[1;33m \u001b[0mbatch\u001b[0m\u001b[1;33m[\u001b[0m\u001b[1;33m...\u001b[0m\u001b[1;33m,\u001b[0m \u001b[1;32mNone\u001b[0m\u001b[1;33m]\u001b[0m \u001b[1;33m*\u001b[0m \u001b[0mv\u001b[0m\u001b[1;33m\u001b[0m\u001b[1;33m\u001b[0m\u001b[0m\n\u001b[0m",
      "\u001b[1;31mNameError\u001b[0m: name 'v' is not defined"
     ]
    }
   ],
   "source": [
    "batch[..., None] * v"
   ]
  },
  {
   "cell_type": "code",
   "execution_count": 20,
   "metadata": {},
   "outputs": [
    {
     "data": {
      "text/plain": [
       "array([[[[ 1,  2,  3,  4],\n",
       "         [ 2,  4,  6,  8],\n",
       "         [ 3,  6,  9, 12],\n",
       "         [ 4,  8, 12, 16]],\n",
       "\n",
       "        [[ 1,  2,  3,  4],\n",
       "         [ 0,  0,  0,  0],\n",
       "         [ 1,  2,  3,  4],\n",
       "         [ 0,  0,  0,  0]],\n",
       "\n",
       "        [[ 5, 10, 15, 20],\n",
       "         [ 5, 10, 15, 20],\n",
       "         [ 5, 10, 15, 20],\n",
       "         [ 5, 10, 15, 20]]],\n",
       "\n",
       "\n",
       "       [[[ 1,  0,  1,  0],\n",
       "         [ 2,  0,  2,  0],\n",
       "         [ 3,  0,  3,  0],\n",
       "         [ 4,  0,  4,  0]],\n",
       "\n",
       "        [[ 1,  0,  1,  0],\n",
       "         [ 0,  0,  0,  0],\n",
       "         [ 1,  0,  1,  0],\n",
       "         [ 0,  0,  0,  0]],\n",
       "\n",
       "        [[ 5,  0,  5,  0],\n",
       "         [ 5,  0,  5,  0],\n",
       "         [ 5,  0,  5,  0],\n",
       "         [ 5,  0,  5,  0]]],\n",
       "\n",
       "\n",
       "       [[[ 5,  5,  5,  5],\n",
       "         [10, 10, 10, 10],\n",
       "         [15, 15, 15, 15],\n",
       "         [20, 20, 20, 20]],\n",
       "\n",
       "        [[ 5,  5,  5,  5],\n",
       "         [ 0,  0,  0,  0],\n",
       "         [ 5,  5,  5,  5],\n",
       "         [ 0,  0,  0,  0]],\n",
       "\n",
       "        [[25, 25, 25, 25],\n",
       "         [25, 25, 25, 25],\n",
       "         [25, 25, 25, 25],\n",
       "         [25, 25, 25, 25]]]])"
      ]
     },
     "execution_count": 20,
     "metadata": {},
     "output_type": "execute_result"
    }
   ],
   "source": [
    "np.array([batch[..., None] * s.T for s in batch])"
   ]
  },
  {
   "cell_type": "code",
   "execution_count": 16,
   "metadata": {},
   "outputs": [],
   "source": [
    "# есть батч из n векторов длины m (n, m). получить\n",
    "# матрицы произведений для каждого вектора\n",
    "# 1 слой - матрица для 1 вектора \n",
    "# 2 слой - матрица для 2 вектора, итд\n",
    "# размерность тензора n*m*m\n",
    "\n",
    "# !!!!!!!!"
   ]
  },
  {
   "cell_type": "code",
   "execution_count": null,
   "metadata": {},
   "outputs": [],
   "source": [
    "# сохранить результаты на git epam/ github"
   ]
  }
 ],
 "metadata": {
  "interpreter": {
   "hash": "0f61157e1cb6ddf791496c2160792743f565948d5bb3ee77c39681b07fc9ff7a"
  },
  "kernelspec": {
   "display_name": "Python 3.10.1 64-bit",
   "language": "python",
   "name": "python3"
  },
  "language_info": {
   "codemirror_mode": {
    "name": "ipython",
    "version": 3
   },
   "file_extension": ".py",
   "mimetype": "text/x-python",
   "name": "python",
   "nbconvert_exporter": "python",
   "pygments_lexer": "ipython3",
   "version": "3.9.7"
  },
  "orig_nbformat": 4
 },
 "nbformat": 4,
 "nbformat_minor": 2
}
